{
  "nbformat": 4,
  "nbformat_minor": 0,
  "metadata": {
    "colab": {
      "provenance": [],
      "toc_visible": true,
      "authorship_tag": "ABX9TyOa6bAlFQ4eOvFqBVSLBIe3",
      "include_colab_link": true
    },
    "kernelspec": {
      "name": "python3",
      "display_name": "Python 3"
    },
    "language_info": {
      "name": "python"
    }
  },
  "cells": [
    {
      "cell_type": "markdown",
      "metadata": {
        "id": "view-in-github",
        "colab_type": "text"
      },
      "source": [
        "<a href=\"https://colab.research.google.com/github/Tamanayre/Python-Pandas/blob/main/Python_para_DS_Introduccion.ipynb\" target=\"_parent\"><img src=\"https://colab.research.google.com/assets/colab-badge.svg\" alt=\"Open In Colab\"/></a>"
      ]
    },
    {
      "cell_type": "markdown",
      "source": [
        "#**Pythojn para DS Introduccion al lenguaje"
      ],
      "metadata": {
        "id": "dlDqAT77S1MN"
      }
    },
    {
      "cell_type": "code",
      "execution_count": null,
      "metadata": {
        "id": "5ZHOaVMmQIc3"
      },
      "outputs": [],
      "source": [
        "edad=2+2+11\n"
      ]
    },
    {
      "cell_type": "code",
      "source": [
        "'Tama'"
      ],
      "metadata": {
        "colab": {
          "base_uri": "https://localhost:8080/",
          "height": 36
        },
        "id": "cwxjcfZgWTM-",
        "outputId": "8de720b7-43d0-4152-99c0-ba56daec5f24"
      },
      "execution_count": null,
      "outputs": [
        {
          "output_type": "execute_result",
          "data": {
            "text/plain": [
              "'Tama'"
            ],
            "application/vnd.google.colaboratory.intrinsic+json": {
              "type": "string"
            }
          },
          "metadata": {},
          "execution_count": 3
        }
      ]
    },
    {
      "cell_type": "code",
      "source": [
        "nombre='Tama'"
      ],
      "metadata": {
        "id": "3Lz585RGWY0S"
      },
      "execution_count": null,
      "outputs": []
    },
    {
      "cell_type": "code",
      "source": [
        "nombre"
      ],
      "metadata": {
        "colab": {
          "base_uri": "https://localhost:8080/",
          "height": 36
        },
        "id": "nkT04XAWYE-0",
        "outputId": "4c9405c3-5ef2-441a-f021-3e11dec14b42"
      },
      "execution_count": null,
      "outputs": [
        {
          "output_type": "execute_result",
          "data": {
            "text/plain": [
              "'Tama'"
            ],
            "application/vnd.google.colaboratory.intrinsic+json": {
              "type": "string"
            }
          },
          "metadata": {},
          "execution_count": 5
        }
      ]
    },
    {
      "cell_type": "markdown",
      "source": [
        "#** Primeras Funciones\n"
      ],
      "metadata": {
        "id": "fjJY3vHHZMHe"
      }
    },
    {
      "cell_type": "code",
      "source": [
        "print ('nombre:', nombre ,'edad:'+ str(edad))\n",
        "print (f'nombre:{nombre} edad:{edad}')"
      ],
      "metadata": {
        "colab": {
          "base_uri": "https://localhost:8080/"
        },
        "id": "SxEJamYSYGVW",
        "outputId": "fdf0471a-8189-483c-d4ed-df240087daa9"
      },
      "execution_count": null,
      "outputs": [
        {
          "output_type": "stream",
          "name": "stdout",
          "text": [
            "nombre: Tama edad:15\n",
            "nombre:Tama edad:15\n"
          ]
        }
      ]
    },
    {
      "cell_type": "code",
      "source": [
        "def saludar():\n",
        "  nombre = input ('ecriba u nombre: ')\n",
        "  print(f'Hola {nombre} sea Bienvenido!!!')\n",
        "\n",
        "\n"
      ],
      "metadata": {
        "id": "O9e8t-mbZynd"
      },
      "execution_count": null,
      "outputs": []
    },
    {
      "cell_type": "code",
      "source": [
        "saludar()"
      ],
      "metadata": {
        "colab": {
          "base_uri": "https://localhost:8080/"
        },
        "id": "nWHMbqfpgEyi",
        "outputId": "f49510eb-1abf-4221-d923-9d5b69149181"
      },
      "execution_count": null,
      "outputs": [
        {
          "output_type": "stream",
          "name": "stdout",
          "text": [
            "ecriba u nombre: Juan\n",
            "Hola Juan sea Bienvenido!!!\n"
          ]
        }
      ]
    },
    {
      "cell_type": "code",
      "source": [
        "nombre='Andrea'"
      ],
      "metadata": {
        "id": "XIFXBzi9rp0w"
      },
      "execution_count": null,
      "outputs": []
    },
    {
      "cell_type": "code",
      "source": [
        "def saludar_con_paramtros (nombre):\n",
        "  print(f'Hola {nombre} sea Bienvenid@')\n"
      ],
      "metadata": {
        "id": "EfmC93NGgKHQ"
      },
      "execution_count": null,
      "outputs": []
    },
    {
      "cell_type": "code",
      "source": [
        "saludar_con_paramtros(nombre)"
      ],
      "metadata": {
        "colab": {
          "base_uri": "https://localhost:8080/"
        },
        "id": "05LWAma_r0E1",
        "outputId": "b04c2520-90a9-4755-f19e-74cc67d6d4f6"
      },
      "execution_count": null,
      "outputs": [
        {
          "output_type": "stream",
          "name": "stdout",
          "text": [
            "Hola Andrea sea Bienvenid@\n"
          ]
        }
      ]
    },
    {
      "cell_type": "markdown",
      "source": [
        "#** Funciones con dondicionales\n"
      ],
      "metadata": {
        "id": "RYaZTTA2wsA7"
      }
    },
    {
      "cell_type": "code",
      "source": [
        "def puede_conducir (edad):\n",
        "  print(f\"{nombre} {'puede conducir' if (edad>=18) else 'no puede conducir'}\")"
      ],
      "metadata": {
        "id": "Jm32PVrOr4aq"
      },
      "execution_count": null,
      "outputs": []
    },
    {
      "cell_type": "code",
      "source": [
        "puede_conducir(18)\n"
      ],
      "metadata": {
        "colab": {
          "base_uri": "https://localhost:8080/"
        },
        "id": "ZMcnb70TuEBJ",
        "outputId": "1ecdb6fe-03db-4150-ba89-7b01f9f1c8ca"
      },
      "execution_count": null,
      "outputs": [
        {
          "output_type": "stream",
          "name": "stdout",
          "text": [
            "Andrea puede conducir\n"
          ]
        }
      ]
    },
    {
      "cell_type": "code",
      "source": [
        "def clasificar_nps(nota):\n",
        "  if nota <= 6:\n",
        "    print('El alumno es considerado Detractor')\n",
        "  else:\n",
        "    if nota <= 8:\n",
        "      print('El alumno es considerado Neutro')\n",
        "    else:\n",
        "      print('El alumno es considerado Promotor')\n"
      ],
      "metadata": {
        "id": "AIwIYZatvXHu"
      },
      "execution_count": null,
      "outputs": []
    },
    {
      "cell_type": "code",
      "source": [
        "clasificar_nps(10)"
      ],
      "metadata": {
        "colab": {
          "base_uri": "https://localhost:8080/"
        },
        "id": "wKHFMZAkwWRz",
        "outputId": "473b79d6-747e-4acc-9e26-7eeaca121401"
      },
      "execution_count": null,
      "outputs": [
        {
          "output_type": "stream",
          "name": "stdout",
          "text": [
            "El alumno es considerado Promotor\n"
          ]
        }
      ]
    },
    {
      "cell_type": "code",
      "source": [
        "def puede_conducir_sin_parametros():\n",
        "  edad = int(input('ingrese su edad: '))\n",
        "  print(f\"{nombre} {'no puede conducir' if edad< 18 else 'puede conducir'}\")"
      ],
      "metadata": {
        "id": "oFliAmhNwZPa"
      },
      "execution_count": null,
      "outputs": []
    },
    {
      "cell_type": "code",
      "source": [
        "puede_conducir_sin_parametros()"
      ],
      "metadata": {
        "colab": {
          "base_uri": "https://localhost:8080/"
        },
        "id": "LelZBjlXx4oE",
        "outputId": "d139850e-3048-4cd8-d1bd-641eee2660da"
      },
      "execution_count": null,
      "outputs": [
        {
          "output_type": "stream",
          "name": "stdout",
          "text": [
            "ingrese su edad: 18\n",
            "Andrea puede conducir\n"
          ]
        }
      ]
    },
    {
      "cell_type": "markdown",
      "source": [
        "#** Listas"
      ],
      "metadata": {
        "id": "UA906DL9_6Bg"
      }
    },
    {
      "cell_type": "code",
      "source": [
        "edades=[19,18,29,17,25]\n"
      ],
      "metadata": {
        "id": "7UQoEQwZx8ZX"
      },
      "execution_count": null,
      "outputs": []
    },
    {
      "cell_type": "code",
      "source": [
        "type(edades)"
      ],
      "metadata": {
        "colab": {
          "base_uri": "https://localhost:8080/"
        },
        "id": "0MNqtI3HAO0l",
        "outputId": "71462a5b-9290-4ce7-c982-1fb7c61aff83"
      },
      "execution_count": null,
      "outputs": [
        {
          "output_type": "execute_result",
          "data": {
            "text/plain": [
              "list"
            ]
          },
          "metadata": {},
          "execution_count": 13
        }
      ]
    },
    {
      "cell_type": "code",
      "source": [
        "edades[2],edades[0:3],edades[:],edades[-3],edades[3:]"
      ],
      "metadata": {
        "colab": {
          "base_uri": "https://localhost:8080/"
        },
        "id": "sWyDE-TIASoD",
        "outputId": "791d780c-b594-48d3-f06e-c4afe919f18f"
      },
      "execution_count": null,
      "outputs": [
        {
          "output_type": "execute_result",
          "data": {
            "text/plain": [
              "(29, [19, 18, 29], [19, 18, 29, 17, 25], 29, [17, 25])"
            ]
          },
          "metadata": {},
          "execution_count": 14
        }
      ]
    },
    {
      "cell_type": "code",
      "source": [
        "lista_mixta=['Mariana',25,True,'Mexico']\n",
        "for i in lista_mixta:\n",
        "  print(f'El elemento {i} de la lista es de tipo', type(i))"
      ],
      "metadata": {
        "colab": {
          "base_uri": "https://localhost:8080/"
        },
        "id": "lgVWRoa-3S7L",
        "outputId": "e38a8398-baa5-4d9b-c6ad-28bd7ad73c4b"
      },
      "execution_count": null,
      "outputs": [
        {
          "output_type": "stream",
          "name": "stdout",
          "text": [
            "El elemento Mariana de la lista es de tipo <class 'str'>\n",
            "El elemento 25 de la lista es de tipo <class 'int'>\n",
            "El elemento True de la lista es de tipo <class 'bool'>\n",
            "El elemento Mexico de la lista es de tipo <class 'str'>\n"
          ]
        }
      ]
    },
    {
      "cell_type": "markdown",
      "source": [
        "#** Ciclos y Bucles\n"
      ],
      "metadata": {
        "id": "vKO3XyHOkwfc"
      }
    },
    {
      "cell_type": "code",
      "source": [
        "#Bucle fuera de la  funición\n",
        "edades=[19,18,29,17,25]\n",
        "def puede_conducir (edad):\n",
        "  if edad >= 18:\n",
        "    print('puede conducir')\n",
        "  else: print ('no puede conducir')\n",
        "for edad in edades:\n",
        "  puede_conducir(edad)"
      ],
      "metadata": {
        "id": "_9ZN018TAtRt",
        "colab": {
          "base_uri": "https://localhost:8080/"
        },
        "outputId": "40a8b812-6d35-46eb-f472-96a273b228f4"
      },
      "execution_count": null,
      "outputs": [
        {
          "output_type": "stream",
          "name": "stdout",
          "text": [
            "puede conducir\n",
            "puede conducir\n",
            "puede conducir\n",
            "no puede conducir\n",
            "puede conducir\n"
          ]
        }
      ]
    },
    {
      "cell_type": "code",
      "source": [
        "#Bucle dentro de la  funición\n",
        "def puede_conducir_con_bucle (edades):\n",
        "  for edad in edades:\n",
        "    if edad >= 18:\n",
        "      print('puede conducir')\n",
        "    else: print ('no puede conducir')\n",
        "puede_conducir_con_bucle(edades)"
      ],
      "metadata": {
        "colab": {
          "base_uri": "https://localhost:8080/"
        },
        "id": "Vc0adaOokHRS",
        "outputId": "741c97a4-38ab-4bb0-aab2-f37cd8796ab0"
      },
      "execution_count": null,
      "outputs": [
        {
          "output_type": "stream",
          "name": "stdout",
          "text": [
            "puede conducir\n",
            "puede conducir\n",
            "puede conducir\n",
            "no puede conducir\n",
            "puede conducir\n"
          ]
        }
      ]
    },
    {
      "cell_type": "markdown",
      "source": [
        "#**Booleano"
      ],
      "metadata": {
        "id": "t4hG0lRCrgch"
      }
    },
    {
      "cell_type": "code",
      "source": [
        "edad=18\n",
        "verificaciones=[]\n",
        "edades=[15,18,20]\n",
        "def puede_conducir_con_booleano(verificaciones, edades):\n",
        "  for edad in edades:\n",
        "    if edad >= 18:\n",
        "      verificaciones.append(True)\n",
        "    else:\n",
        "      verificaciones.append(False)\n",
        "puede_conducir_con_booleano(verificaciones,edades)\n",
        "print (verificaciones)\n",
        "for i in verificaciones:\n",
        "  if i == True:\n",
        "    print('Puede conducir')\n",
        "  else:\n",
        "    print('no puede conducir')"
      ],
      "metadata": {
        "colab": {
          "base_uri": "https://localhost:8080/"
        },
        "id": "jvMQMLdfmJ72",
        "outputId": "f13af102-f2f1-4909-a0d4-26af9e824fe8"
      },
      "execution_count": null,
      "outputs": [
        {
          "output_type": "stream",
          "name": "stdout",
          "text": [
            "[False, True, True]\n",
            "no puede conducir\n",
            "Puede conducir\n",
            "Puede conducir\n"
          ]
        }
      ]
    },
    {
      "cell_type": "markdown",
      "source": [
        "#** Importar Librerias"
      ],
      "metadata": {
        "id": "gQMjzpphByCO"
      }
    },
    {
      "cell_type": "code",
      "source": [
        "from random import randrange\n",
        "randrange(0,11)"
      ],
      "metadata": {
        "colab": {
          "base_uri": "https://localhost:8080/"
        },
        "id": "xivDRS8qSceQ",
        "outputId": "1ac3d667-8d27-45e1-8577-4a0199af0c25"
      },
      "execution_count": null,
      "outputs": [
        {
          "output_type": "execute_result",
          "data": {
            "text/plain": [
              "2"
            ]
          },
          "metadata": {},
          "execution_count": 47
        }
      ]
    },
    {
      "cell_type": "code",
      "source": [
        "from math import factorial\n",
        "factorial(6)"
      ],
      "metadata": {
        "colab": {
          "base_uri": "https://localhost:8080/"
        },
        "id": "2mFbBvEtCt08",
        "outputId": "8c82917c-2964-4180-9712-3ba96eda3578"
      },
      "execution_count": null,
      "outputs": [
        {
          "output_type": "execute_result",
          "data": {
            "text/plain": [
              "720"
            ]
          },
          "metadata": {},
          "execution_count": 36
        }
      ]
    },
    {
      "cell_type": "code",
      "source": [
        "from random import randrange\n",
        "notas=[]\n",
        "for i in range(6):\n",
        "  notas.append(randrange(0,11))\n",
        "for i in notas:\n",
        "  if i >= 6:\n",
        "    print('reprobado')\n",
        "  else:\n",
        "    if i <= 8:\n",
        "      print('promivido')\n",
        "    else:\n",
        "      print('excelente')"
      ],
      "metadata": {
        "colab": {
          "base_uri": "https://localhost:8080/"
        },
        "id": "pTeKUWHoQX23",
        "outputId": "72de6c25-2152-47b2-ec1b-2b9122f92ae9"
      },
      "execution_count": null,
      "outputs": [
        {
          "output_type": "stream",
          "name": "stdout",
          "text": [
            "promivido\n",
            "reprobado\n",
            "reprobado\n",
            "reprobado\n",
            "reprobado\n",
            "promivido\n"
          ]
        }
      ]
    },
    {
      "cell_type": "markdown",
      "source": [
        "#** Libreria Matplotlib"
      ],
      "metadata": {
        "id": "AnMTo9UWfCTX"
      }
    },
    {
      "cell_type": "code",
      "source": [
        "import matplotlib.pyplot as plt\n",
        "x=list(range(1,7))\n",
        "y=notas\n",
        "plt.plot(x,y, marker= 'o')\n",
        "plt.title('Titulo del grafico')\n",
        "plt.xlabel('Pruebas')\n",
        "plt.ylabel('Notas')\n",
        "plt.show()"
      ],
      "metadata": {
        "colab": {
          "base_uri": "https://localhost:8080/",
          "height": 472
        },
        "id": "SWdXZeLKe_7b",
        "outputId": "6f8524dd-ac76-46b8-dec1-02be6633b59d"
      },
      "execution_count": null,
      "outputs": [
        {
          "output_type": "display_data",
          "data": {
            "text/plain": [
              "<Figure size 640x480 with 1 Axes>"
            ],
            "image/png": "[encoded data removed]"
          },
          "metadata": {}
        }
      ]
    }
  ]
}